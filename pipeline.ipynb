{
 "cells": [
  {
   "cell_type": "code",
   "execution_count": 1,
   "metadata": {},
   "outputs": [],
   "source": [
    "import kfp\n",
    "from kfp import dsl\n",
    "import kfp.components as comp"
   ]
  },
  {
   "cell_type": "code",
   "execution_count": null,
   "metadata": {},
   "outputs": [],
   "source": [
    "@dsl.pipeline(name = 'Firs Pipeline', description= \"Applying Sentiment Analysis Pipeline in arabic\")\n",
    "def sentiment_analysis():\n",
    "    #load the yaml manifest for each component\n",
    "    load_data = kfp.components.load_component_from_file(\"components/load_data/component.yaml\")\n",
    "    preprocess = kfp.components.load_component_from_file(\"components/preprocessing/component.yaml\")\n",
    "    train = kfp.components.load_component_from_file(\"components/training/component.yaml\")\n",
    "    \n",
    "    \n",
    "    loading_task = load_data()\n",
    "    \n",
    "    preprocess = preprocess(loading_task.output)\n",
    "    training = train(preprocess.output)\n"
   ]
  }
 ],
 "metadata": {
  "kernelspec": {
   "display_name": "Python 3.8.10 64-bit",
   "language": "python",
   "name": "python3"
  },
  "language_info": {
   "codemirror_mode": {
    "name": "ipython",
    "version": 3
   },
   "file_extension": ".py",
   "mimetype": "text/x-python",
   "name": "python",
   "nbconvert_exporter": "python",
   "pygments_lexer": "ipython3",
   "version": "3.8.10"
  },
  "orig_nbformat": 4,
  "vscode": {
   "interpreter": {
    "hash": "916dbcbb3f70747c44a77c7bcd40155683ae19c65e1c03b4aa3499c5328201f1"
   }
  }
 },
 "nbformat": 4,
 "nbformat_minor": 2
}
